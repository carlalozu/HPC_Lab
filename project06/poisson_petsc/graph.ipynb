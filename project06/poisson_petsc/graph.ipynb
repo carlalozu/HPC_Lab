{
 "cells": [
  {
   "cell_type": "code",
   "execution_count": 1,
   "metadata": {},
   "outputs": [
    {
     "name": "stderr",
     "output_type": "stream",
     "text": [
      "\u001b[32m\u001b[1m  Activating\u001b[22m\u001b[39m project at `~/Documents/Courses/Spring2024/HPC_Lab/project06/poisson_petsc/Poisson`\n"
     ]
    },
    {
     "name": "stdout",
     "output_type": "stream",
     "text": [
      "Keys: Vec_0x13d03a0_0\n"
     ]
    }
   ],
   "source": [
    "import Pkg\n",
    "Pkg.activate(\"Poisson\")\n",
    "\n",
    "using HDF5\n",
    "using Plots\n",
    "\n",
    "# Open the HDF5 file\n",
    "h5file = h5open(\"solution.h5\", \"r\")\n",
    "\n",
    "key = keys(h5file)[1]\n",
    "println(\"Keys: \", key)\n",
    "\n",
    "# Read the vector data\n",
    "u = read(h5file, key)\n",
    "\n",
    "n = 10\n",
    "u_ = reshape(u, n, n);"
   ]
  },
  {
   "cell_type": "code",
   "execution_count": 11,
   "metadata": {},
   "outputs": [],
   "source": [
    "plot_ = surface(u_, title=\"PETSC solution\", xlabel=\"x\", ylabel=\"y\", zlabel=\"u(x,y)\");"
   ]
  },
  {
   "cell_type": "code",
   "execution_count": 12,
   "metadata": {},
   "outputs": [
    {
     "data": {
      "text/plain": [
       "\"/Users/carla/Documents/Courses/Spring2024/HPC_Lab/project06/poisson_petsc/surface_plot.pdf\""
      ]
     },
     "execution_count": 12,
     "metadata": {},
     "output_type": "execute_result"
    }
   ],
   "source": [
    "savefig(plot_, \"surface_plot.pdf\")  # Saves the plot as a PDF file"
   ]
  },
  {
   "cell_type": "code",
   "execution_count": 10,
   "metadata": {},
   "outputs": [],
   "source": [
    "# Close the HDF5 file\n",
    "close(h5file)"
   ]
  }
 ],
 "metadata": {
  "kernelspec": {
   "display_name": "Julia 1.9.3",
   "language": "julia",
   "name": "julia-1.9"
  },
  "language_info": {
   "file_extension": ".jl",
   "mimetype": "application/julia",
   "name": "julia",
   "version": "1.9.3"
  }
 },
 "nbformat": 4,
 "nbformat_minor": 2
}
