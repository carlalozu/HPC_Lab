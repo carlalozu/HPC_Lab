{
 "cells": [
  {
   "cell_type": "code",
   "execution_count": null,
   "metadata": {},
   "outputs": [],
   "source": [
    "import Pkg\n",
    "Pkg.activate(\"env\")"
   ]
  },
  {
   "cell_type": "code",
   "execution_count": null,
   "metadata": {},
   "outputs": [],
   "source": [
    "using IJulia"
   ]
  },
  {
   "cell_type": "code",
   "execution_count": null,
   "metadata": {},
   "outputs": [],
   "source": [
    "using Infiltrator"
   ]
  },
  {
   "cell_type": "code",
   "execution_count": null,
   "metadata": {},
   "outputs": [],
   "source": [
    "# Pkg.add(\"Revise\")"
   ]
  },
  {
   "cell_type": "code",
   "execution_count": null,
   "metadata": {},
   "outputs": [],
   "source": [
    "# I/O packages\n",
    "using DelimitedFiles, MAT, Revise\n",
    "\n",
    "# Math packages\n",
    "using Arpack, LinearAlgebra, Metis, Random, SparseArrays, Statistics\n",
    "\n",
    "# Plotting packages\n",
    "using Graphs, SGtSNEpi, Colors, CairoMakie, PrettyTables"
   ]
  },
  {
   "cell_type": "code",
   "execution_count": null,
   "metadata": {},
   "outputs": [],
   "source": [
    "# include(\"main.jl\");"
   ]
  },
  {
   "cell_type": "code",
   "execution_count": null,
   "metadata": {},
   "outputs": [],
   "source": [
    "# Tools\n",
    "include(\"./Tools/add_paths.jl\");"
   ]
  },
  {
   "cell_type": "code",
   "execution_count": null,
   "metadata": {},
   "outputs": [],
   "source": [
    "mesh = \"mesh1e1\"\n",
    "\n",
    "# List the algorithms to compare\n",
    "alg = \"Coordinate\"\n",
    "\n",
    "# Read data\n",
    "A, coords = getData(mesh);"
   ]
  },
  {
   "cell_type": "code",
   "execution_count": null,
   "metadata": {},
   "outputs": [],
   "source": [
    "# Create a Figure and Axis\n",
    "draw_graph(A, coords)"
   ]
  },
  {
   "cell_type": "markdown",
   "metadata": {},
   "source": [
    "### 1. Coordinate bisection"
   ]
  },
  {
   "cell_type": "code",
   "execution_count": null,
   "metadata": {},
   "outputs": [],
   "source": [
    "pCoordinate = coordinate_part(A, coords);\n",
    "edge_count = count_edge_cut(A, pCoordinate);"
   ]
  },
  {
   "cell_type": "code",
   "execution_count": null,
   "metadata": {},
   "outputs": [],
   "source": [
    "draw_graph(A, coords, pCoordinate)"
   ]
  },
  {
   "cell_type": "markdown",
   "metadata": {},
   "source": [
    "### 2. Intertial bisection"
   ]
  },
  {
   "cell_type": "code",
   "execution_count": null,
   "metadata": {},
   "outputs": [],
   "source": [
    "pInertial = inertial_part(A, coords);\n",
    "edge_count = count_edge_cut(A, pInertial);"
   ]
  },
  {
   "cell_type": "code",
   "execution_count": null,
   "metadata": {},
   "outputs": [],
   "source": [
    "draw_graph(A, coords, pInertial)"
   ]
  },
  {
   "cell_type": "markdown",
   "metadata": {},
   "source": [
    "### 3. Spectral bisection"
   ]
  },
  {
   "cell_type": "code",
   "execution_count": null,
   "metadata": {},
   "outputs": [],
   "source": [
    "pSpectral = spectral_part(A);\n",
    "edge_count = count_edge_cut(A, pSpectral);"
   ]
  },
  {
   "cell_type": "code",
   "execution_count": null,
   "metadata": {},
   "outputs": [],
   "source": [
    "draw_graph(A, coords, pSpectral)"
   ]
  },
  {
   "cell_type": "markdown",
   "metadata": {},
   "source": [
    "### 4. Recursive bisection"
   ]
  },
  {
   "cell_type": "code",
   "execution_count": 7,
   "metadata": {},
   "outputs": [],
   "source": [
    "begin\n",
    "    includet(\"./Tools/recursive_bisection.jl\")\n",
    "end"
   ]
  },
  {
   "cell_type": "code",
   "execution_count": null,
   "metadata": {},
   "outputs": [],
   "source": []
  },
  {
   "cell_type": "code",
   "execution_count": 31,
   "metadata": {},
   "outputs": [
    {
     "data": {
      "text/plain": [
       "\"inertialPart\""
      ]
     },
     "execution_count": 31,
     "metadata": {},
     "output_type": "execute_result"
    }
   ],
   "source": [
    "levels = 2\n",
    "method = \"inertialPart\""
   ]
  },
  {
   "cell_type": "code",
   "execution_count": 32,
   "metadata": {},
   "outputs": [],
   "source": [
    "n = size(A)[1];\n",
    "levels_ = 2^levels;\n",
    "index_ = 1:n;\n",
    "p =  ones(Int, n);"
   ]
  },
  {
   "cell_type": "code",
   "execution_count": 16,
   "metadata": {},
   "outputs": [
    {
     "data": {
      "text/plain": [
       "4"
      ]
     },
     "execution_count": 16,
     "metadata": {},
     "output_type": "execute_result"
    }
   ],
   "source": [
    "A_ = A\n",
    "parts_ = p"
   ]
  },
  {
   "cell_type": "code",
   "execution_count": 36,
   "metadata": {},
   "outputs": [
    {
     "data": {
      "text/plain": [
       "recursion (generic function with 2 methods)"
      ]
     },
     "execution_count": 36,
     "metadata": {},
     "output_type": "execute_result"
    }
   ],
   "source": [
    "function recursion(A_, levels_, index_, count_)\n",
    "    if levels_%2 == 0\n",
    "        levels_ = levels_/2\n",
    "\n",
    "        if method == \"spectralPart\"\n",
    "            p_ = spectral_part(A_)\n",
    "        elseif method == \"inertialPart\"\n",
    "            p_ = inertial_part(A_, coords)\n",
    "        elseif method ==  \"coordinatePart\"\n",
    "            p_ = coordinate_part(A_, coords)\n",
    "        end\n",
    "\n",
    "        a1 = p_.==1\n",
    "        a2 = p_.==2\n",
    "\n",
    "        A1_ = A_[a1, :]\n",
    "        A2_ = A_[a2, :]\n",
    "\n",
    "        recursion(A1_, levels_, index_[a1], count_)\n",
    "        recursion(A2_, levels_, index_[a2], count_+1)\n",
    "    else\n",
    "        p[index_] .= count_\n",
    "    end\n",
    "end"
   ]
  },
  {
   "cell_type": "code",
   "execution_count": 37,
   "metadata": {},
   "outputs": [
    {
     "ename": "LoadError",
     "evalue": "ArgumentError: indexed assignment with a single value to possibly many locations is not supported; perhaps use broadcasting `.=` instead?",
     "output_type": "error",
     "traceback": [
      "ArgumentError: indexed assignment with a single value to possibly many locations is not supported; perhaps use broadcasting `.=` instead?",
      "",
      "Stacktrace:",
      " [1] setindex_shape_check(::Int64, ::Int64)",
      "   @ Base ./indices.jl:261",
      " [2] _unsafe_setindex!(#unused#::IndexLinear, A::Vector{Int64}, x::Int64, I::Vector{Int64})",
      "   @ Base ./multidimensional.jl:925",
      " [3] _setindex!",
      "   @ ./multidimensional.jl:916 [inlined]",
      " [4] setindex!(A::Vector{Int64}, v::Int64, I::Vector{Int64})",
      "   @ Base ./abstractarray.jl:1399",
      " [5] recursion(A_::SparseMatrixCSC{Float64, Int64}, levels_::Float64, index_::Vector{Int64}, count_::Int64)",
      "   @ Main ./In[36]:22",
      " [6] recursion(A_::SparseMatrixCSC{Float64, Int64}, levels_::Int64, index_::UnitRange{Int64}, count_::Int64)",
      "   @ Main ./In[36]:19",
      " [7] top-level scope",
      "   @ In[37]:1"
     ]
    }
   ],
   "source": [
    "recursion(A, levels, index, 1)"
   ]
  },
  {
   "cell_type": "code",
   "execution_count": 14,
   "metadata": {},
   "outputs": [
    {
     "name": "stdout",
     "output_type": "stream",
     "text": [
      "Infiltrator.jl needs a fully-functional Julia REPL.\n"
     ]
    },
    {
     "ename": "LoadError",
     "evalue": "BoundsError: attempt to access 1-element Vector{UnitRange{Int64}} at index [[2, 2, 1, 1, 1, 1, 2, 2, 2, 2  …  1, 2, 1, 2, 2, 1, 2, 1, 2, 2]]",
     "output_type": "error",
     "traceback": [
      "BoundsError: attempt to access 1-element Vector{UnitRange{Int64}} at index [[2, 2, 1, 1, 1, 1, 2, 2, 2, 2  …  1, 2, 1, 2, 2, 1, 2, 1, 2, 2]]",
      "",
      "Stacktrace:",
      " [1] throw_boundserror(A::Vector{UnitRange{Int64}}, I::Tuple{Vector{Int64}})",
      "   @ Base ./abstractarray.jl:744",
      " [2] checkbounds",
      "   @ ./abstractarray.jl:709 [inlined]",
      " [3] _getindex",
      "   @ ./multidimensional.jl:860 [inlined]",
      " [4] getindex(A::Vector{UnitRange{Int64}}, I::Vector{Int64})",
      "   @ Base ./abstractarray.jl:1296",
      " [5] recursion(A_::SparseMatrixCSC{Float64, Int64}, parts_::Int64, index_::Int64)",
      "   @ Main ./In[10]:16",
      " [6] top-level scope",
      "   @ In[14]:1"
     ]
    }
   ],
   "source": [
    "recursion(A, p, 1)"
   ]
  },
  {
   "cell_type": "code",
   "execution_count": 13,
   "metadata": {},
   "outputs": [
    {
     "name": "stdout",
     "output_type": "stream",
     "text": [
      "Infiltrator.jl needs a fully-functional Julia REPL.\n"
     ]
    },
    {
     "ename": "LoadError",
     "evalue": "BoundsError: attempt to access 1-element Vector{UnitRange{Int64}} at index [[2, 2, 1, 1, 1, 1, 2, 2, 2, 2  …  1, 2, 1, 2, 2, 1, 2, 1, 2, 2]]",
     "output_type": "error",
     "traceback": [
      "BoundsError: attempt to access 1-element Vector{UnitRange{Int64}} at index [[2, 2, 1, 1, 1, 1, 2, 2, 2, 2  …  1, 2, 1, 2, 2, 1, 2, 1, 2, 2]]",
      "",
      "Stacktrace:",
      " [1] throw_boundserror(A::Vector{UnitRange{Int64}}, I::Tuple{Vector{Int64}})",
      "   @ Base ./abstractarray.jl:744",
      " [2] checkbounds",
      "   @ ./abstractarray.jl:709 [inlined]",
      " [3] _getindex",
      "   @ ./multidimensional.jl:860 [inlined]",
      " [4] getindex",
      "   @ ./abstractarray.jl:1296 [inlined]",
      " [5] (::var\"#recursion#15\"{String, Int64, SparseMatrixCSC{Float64, Int64}, Matrix{Float64}, Vector{Float64}, Vector{UnitRange{Int64}}, Int64, Int64})(A_::SparseMatrixCSC{Float64, Int64}, parts_::Int64, index_::Int64)",
      "   @ Main ~/Documents/Courses/Spring2024/HPC_Lab/project06/graph_part/Tools/recursive_bisection.jl:44",
      " [6] rec_bisection(method::String, levels::Int64, A::SparseMatrixCSC{Float64, Int64}, coords::Matrix{Float64}, vn::Vector{Float64})",
      "   @ Main ~/Documents/Courses/Spring2024/HPC_Lab/project06/graph_part/Tools/recursive_bisection.jl:51",
      " [7] rec_bisection(method::String, levels::Int64, A::SparseMatrixCSC{Float64, Int64}, coords::Matrix{Float64})",
      "   @ Main ~/Documents/Courses/Spring2024/HPC_Lab/project06/graph_part/Tools/recursive_bisection.jl:25",
      " [8] top-level scope",
      "   @ In[13]:1"
     ]
    }
   ],
   "source": [
    "rec_bisection(method, levels, A, coords)"
   ]
  },
  {
   "cell_type": "code",
   "execution_count": null,
   "metadata": {},
   "outputs": [],
   "source": [
    "pRecursive = rec_bisection(A);\n",
    "edge_count = count_edge_cut(A, pRecursive);"
   ]
  }
 ],
 "metadata": {
  "kernelspec": {
   "display_name": "Julia 1.9.3",
   "language": "julia",
   "name": "julia-1.9"
  },
  "language_info": {
   "file_extension": ".jl",
   "mimetype": "application/julia",
   "name": "julia",
   "version": "1.9.3"
  }
 },
 "nbformat": 4,
 "nbformat_minor": 2
}
