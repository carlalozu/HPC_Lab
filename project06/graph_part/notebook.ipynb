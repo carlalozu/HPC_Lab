{
 "cells": [
  {
   "cell_type": "code",
   "execution_count": 1,
   "metadata": {},
   "outputs": [
    {
     "name": "stderr",
     "output_type": "stream",
     "text": [
      "\u001b[32m\u001b[1m  Activating\u001b[22m\u001b[39m project at `~/Documents/Courses/Spring2024/HPC_Lab/project06/graph_part/env`\n"
     ]
    }
   ],
   "source": [
    "import Pkg\n",
    "Pkg.activate(\"env\")"
   ]
  },
  {
   "cell_type": "code",
   "execution_count": 2,
   "metadata": {},
   "outputs": [],
   "source": [
    "# Pkg.add(\"Revise\") # to add packages to local env"
   ]
  },
  {
   "cell_type": "code",
   "execution_count": 3,
   "metadata": {},
   "outputs": [],
   "source": [
    "using Revise"
   ]
  },
  {
   "cell_type": "code",
   "execution_count": 5,
   "metadata": {},
   "outputs": [
    {
     "ename": "LoadError",
     "evalue": "LoadError: UndefVarError: `@crayon_str` not defined\nin expression starting at /Users/carla/Documents/Courses/Spring2024/HPC_Lab/project06/graph_part/Tools/bench_bisection.jl:2\nin expression starting at /Users/carla/Documents/Courses/Spring2024/HPC_Lab/project06/graph_part/Tools/bench_bisection.jl:2\nin expression starting at /Users/carla/Documents/Courses/Spring2024/HPC_Lab/project06/graph_part/Tools/add_paths.jl:3",
     "output_type": "error",
     "traceback": [
      "LoadError: UndefVarError: `@crayon_str` not defined\nin expression starting at /Users/carla/Documents/Courses/Spring2024/HPC_Lab/project06/graph_part/Tools/bench_bisection.jl:2\nin expression starting at /Users/carla/Documents/Courses/Spring2024/HPC_Lab/project06/graph_part/Tools/bench_bisection.jl:2\nin expression starting at /Users/carla/Documents/Courses/Spring2024/HPC_Lab/project06/graph_part/Tools/add_paths.jl:3",
      "",
      "Stacktrace:",
      "  [1] top-level scope",
      "    @ :0",
      "  [2] #macroexpand#63",
      "    @ ./expr.jl:119 [inlined]",
      "  [3] macroexpand",
      "    @ ./expr.jl:117 [inlined]",
      "  [4] docm(source::LineNumberNode, mod::Module, meta::Any, ex::Any, define::Bool)",
      "    @ Base.Docs ./docs/Docs.jl:539",
      "  [5] docm(source::LineNumberNode, mod::Module, meta::Any, ex::Any)",
      "    @ Base.Docs ./docs/Docs.jl:539",
      "  [6] var\"@doc\"(::LineNumberNode, ::Module, ::String, ::Vararg{Any})",
      "    @ Core ./boot.jl:539",
      "  [7] include(fname::String)",
      "    @ Base.MainInclude ./client.jl:478",
      "  [8] top-level scope",
      "    @ ~/Documents/Courses/Spring2024/HPC_Lab/project06/graph_part/Tools/add_paths.jl:3",
      "  [9] include(fname::String)",
      "    @ Base.MainInclude ./client.jl:478",
      " [10] top-level scope",
      "    @ In[5]:2"
     ]
    }
   ],
   "source": [
    "# Tools\n",
    "include(\"./Tools/add_paths.jl\");"
   ]
  },
  {
   "cell_type": "code",
   "execution_count": 6,
   "metadata": {},
   "outputs": [],
   "source": [
    "using Plots"
   ]
  },
  {
   "cell_type": "code",
   "execution_count": 7,
   "metadata": {},
   "outputs": [
    {
     "ename": "LoadError",
     "evalue": "UndefVarError: `getData` not defined",
     "output_type": "error",
     "traceback": [
      "UndefVarError: `getData` not defined",
      "",
      "Stacktrace:",
      " [1] top-level scope",
      "   @ In[7]:7"
     ]
    }
   ],
   "source": [
    "mesh = \"mesh1e1\"\n",
    "\n",
    "# List the algorithms to compare\n",
    "alg = \"Coordinate\"\n",
    "\n",
    "# Read data\n",
    "A, coords = getData(mesh);\n",
    "\n",
    "# 1. Coordinate bisection\n",
    "pCoordinate = coordinate_part(A, coords);\n",
    "edge_count = count_edge_cut(A, pCoordinate);\n"
   ]
  },
  {
   "cell_type": "code",
   "execution_count": 8,
   "metadata": {},
   "outputs": [
    {
     "ename": "LoadError",
     "evalue": "UndefVarError: `A` not defined",
     "output_type": "error",
     "traceback": [
      "UndefVarError: `A` not defined",
      "",
      "Stacktrace:",
      " [1] top-level scope",
      "   @ In[8]:1"
     ]
    }
   ],
   "source": [
    "Plots.heatmap(A)"
   ]
  },
  {
   "cell_type": "code",
   "execution_count": null,
   "metadata": {},
   "outputs": [],
   "source": []
  }
 ],
 "metadata": {
  "kernelspec": {
   "display_name": "Julia_4_Threads 1.9.3",
   "language": "julia",
   "name": "julia_4_threads-1.9"
  },
  "language_info": {
   "file_extension": ".jl",
   "mimetype": "application/julia",
   "name": "julia",
   "version": "1.9.3"
  }
 },
 "nbformat": 4,
 "nbformat_minor": 2
}
