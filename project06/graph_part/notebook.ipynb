{
 "cells": [
  {
   "cell_type": "code",
   "execution_count": null,
   "metadata": {},
   "outputs": [],
   "source": [
    "import Pkg\n",
    "Pkg.activate(\"env\")"
   ]
  },
  {
   "cell_type": "code",
   "execution_count": null,
   "metadata": {},
   "outputs": [],
   "source": [
    "# Pkg.add(\"Revise\")"
   ]
  },
  {
   "cell_type": "code",
   "execution_count": null,
   "metadata": {},
   "outputs": [],
   "source": [
    "# I/O packages\n",
    "using DelimitedFiles, MAT\n",
    "\n",
    "# Math packages\n",
    "using Arpack, LinearAlgebra, Metis, Random, SparseArrays, Statistics\n",
    "\n",
    "# Plotting packages\n",
    "using Graphs, SGtSNEpi, Colors, CairoMakie, PrettyTables"
   ]
  },
  {
   "cell_type": "code",
   "execution_count": null,
   "metadata": {},
   "outputs": [],
   "source": [
    "# include(\"main_draw.jl\");"
   ]
  },
  {
   "cell_type": "code",
   "execution_count": null,
   "metadata": {},
   "outputs": [],
   "source": [
    "# Tools\n",
    "include(\"./Tools/add_paths.jl\");"
   ]
  },
  {
   "cell_type": "code",
   "execution_count": 36,
   "metadata": {},
   "outputs": [
    {
     "name": "stdout",
     "output_type": "stream",
     "text": [
      "Mesh mesh1e1 done\n",
      "Mesh mesh2e1 done\n",
      "Mesh mesh3e1 done\n",
      "Mesh airfoil1 done\n",
      "Mesh netz4504_dual done\n",
      "Mesh stufe done\n",
      "Mesh 3elt done\n",
      "Mesh barth4 done\n",
      "Mesh ukerbe1 done\n",
      "Mesh crack done\n",
      "┌───────────────┬────────────┬─────────┬──────────┬──────────┐\n",
      "│\u001b[32;1m          Mesh \u001b[0m│\u001b[32;1m Coordinate \u001b[0m│\u001b[32;1m   Metis \u001b[0m│\u001b[32;1m Inertial \u001b[0m│\u001b[32;1m Spectral \u001b[0m│\n",
      "│\u001b[90m               \u001b[0m│\u001b[90m            \u001b[0m│\u001b[90m v.5.1.0 \u001b[0m│\u001b[90m          \u001b[0m│\u001b[90m          \u001b[0m│\n",
      "├───────────────┼────────────┼─────────┼──────────┼──────────┤\n",
      "│       mesh1e1 │       18.0 │    17.0 │     20.0 │     18.0 │\n",
      "│       mesh2e1 │       37.0 │    35.0 │     40.0 │     39.0 │\n",
      "│       mesh3e1 │       19.0 │    18.0 │     19.0 │     18.0 │\n",
      "│      airfoil1 │       94.0 │    72.0 │     93.0 │    132.0 │\n",
      "│ netz4504_dual │       25.0 │    25.0 │     43.0 │     23.0 │\n",
      "│         stufe │       16.0 │    16.0 │     19.0 │     16.0 │\n",
      "│          3elt │      172.0 │    92.0 │    218.0 │    117.0 │\n",
      "│        barth4 │      206.0 │   126.0 │    206.0 │    127.0 │\n",
      "│       ukerbe1 │       32.0 │    28.0 │     88.0 │     28.0 │\n",
      "│         crack │      353.0 │   186.0 │    341.0 │    233.0 │\n",
      "└───────────────┴────────────┴─────────┴──────────┴──────────┘\n"
     ]
    }
   ],
   "source": [
    "benchmark_bisection()"
   ]
  },
  {
   "cell_type": "code",
   "execution_count": 37,
   "metadata": {},
   "outputs": [
    {
     "name": "stdout",
     "output_type": "stream",
     "text": [
      "┌───────────────┬────────────┬────────────┬──────────────┬─────────────┬───────────────────┬──────────────────┬──────────┬──────────┬──────────┬──────────┐\n",
      "│\u001b[36;1m          Mesh \u001b[0m│\u001b[36;1m Coordinate \u001b[0m│\u001b[36;1m Coordinate \u001b[0m│\u001b[36;1m Metis (KWAY) \u001b[0m│\u001b[36;1m Metis(KWAY) \u001b[0m│\u001b[36;1m Metis (RECURSIVE) \u001b[0m│\u001b[36;1m Metis(RECURSIVE) \u001b[0m│\u001b[36;1m Inertial \u001b[0m│\u001b[36;1m Inertial \u001b[0m│\u001b[36;1m Spectral \u001b[0m│\u001b[36;1m Spectral \u001b[0m│\n",
      "│\u001b[90m               \u001b[0m│\u001b[90m    8 parts \u001b[0m│\u001b[90m   16 parts \u001b[0m│\u001b[90m      8 parts \u001b[0m│\u001b[90m    16 parts \u001b[0m│\u001b[90m           8 parts \u001b[0m│\u001b[90m         16 parts \u001b[0m│\u001b[90m  8 parts \u001b[0m│\u001b[90m 16 parts \u001b[0m│\u001b[90m  8 parts \u001b[0m│\u001b[90m 16 parts \u001b[0m│\n",
      "├───────────────┼────────────┼────────────┼──────────────┼─────────────┼───────────────────┼──────────────────┼──────────┼──────────┼──────────┼──────────┤\n",
      "│       mesh3e1 │       75.0 │      118.0 │         71.0 │       187.0 │              74.0 │            111.0 │     90.0 │    159.0 │     92.0 │    119.0 │\n",
      "│      airfoil1 │      516.0 │      819.0 │        312.0 │       564.0 │             311.0 │            580.0 │    670.0 │   1222.0 │    397.0 │    632.0 │\n",
      "│ netz4504_dual │      127.0 │      198.0 │         93.0 │       162.0 │             100.0 │            154.0 │    143.0 │    228.0 │    111.0 │    182.0 │\n",
      "│         stufe │      123.0 │      228.0 │        107.0 │       188.0 │             112.0 │            197.0 │    151.0 │    282.0 │    130.0 │    246.0 │\n",
      "│          3elt │      733.0 │     1168.0 │        381.0 │       645.0 │             418.0 │            651.0 │    817.0 │   1239.0 │    469.0 │    752.0 │\n",
      "│        barth4 │      875.0 │     1306.0 │        454.0 │       677.0 │             429.0 │            687.0 │    954.0 │   1655.0 │    548.0 │    838.0 │\n",
      "│       ukerbe1 │      225.0 │      374.0 │        124.0 │       215.0 │             125.0 │            241.0 │    311.0 │    517.0 │    126.0 │    237.0 │\n",
      "│         crack │     1344.0 │     1861.0 │        777.0 │      1214.0 │             759.0 │           1276.0 │   1400.0 │   2166.0 │    883.0 │   1419.0 │\n",
      "└───────────────┴────────────┴────────────┴──────────────┴─────────────┴───────────────────┴──────────────────┴──────────┴──────────┴──────────┴──────────┘\n"
     ]
    }
   ],
   "source": [
    "benchmark_recursive()\n"
   ]
  },
  {
   "cell_type": "code",
   "execution_count": null,
   "metadata": {},
   "outputs": [],
   "source": [
    "mesh = \"ukerbe1\"\n",
    "\n",
    "# Read data\n",
    "A, coords = getData(mesh);\n",
    "\n",
    "# Create a Figure and Axis\n",
    "draw_graph(A, coords)"
   ]
  },
  {
   "cell_type": "markdown",
   "metadata": {},
   "source": [
    "### 1. Coordinate bisection"
   ]
  },
  {
   "cell_type": "code",
   "execution_count": null,
   "metadata": {},
   "outputs": [],
   "source": [
    "pCoordinate = coordinate_part(A, coords);\n",
    "edge_count = count_edge_cut(A, pCoordinate);"
   ]
  },
  {
   "cell_type": "code",
   "execution_count": null,
   "metadata": {},
   "outputs": [],
   "source": [
    "draw_graph(A, coords, pCoordinate)"
   ]
  },
  {
   "cell_type": "markdown",
   "metadata": {},
   "source": [
    "### 2. Intertial bisection"
   ]
  },
  {
   "cell_type": "code",
   "execution_count": null,
   "metadata": {},
   "outputs": [],
   "source": [
    "pInertial = inertial_part(A, coords);\n",
    "edge_count = count_edge_cut(A, pInertial);"
   ]
  },
  {
   "cell_type": "code",
   "execution_count": null,
   "metadata": {},
   "outputs": [],
   "source": [
    "draw_graph(A, coords, pInertial)"
   ]
  },
  {
   "cell_type": "markdown",
   "metadata": {},
   "source": [
    "### 3. Spectral bisection"
   ]
  },
  {
   "cell_type": "code",
   "execution_count": null,
   "metadata": {},
   "outputs": [],
   "source": [
    "pSpectral = spectral_part(A);\n",
    "edge_count = count_edge_cut(A, pSpectral);"
   ]
  },
  {
   "cell_type": "code",
   "execution_count": null,
   "metadata": {},
   "outputs": [],
   "source": [
    "draw_graph(A, coords, pSpectral)"
   ]
  },
  {
   "cell_type": "markdown",
   "metadata": {},
   "source": [
    "### 4. Recursive bisection"
   ]
  },
  {
   "cell_type": "code",
   "execution_count": null,
   "metadata": {},
   "outputs": [],
   "source": [
    "levels = 2\n",
    "method = \"inertialPart\""
   ]
  },
  {
   "cell_type": "code",
   "execution_count": null,
   "metadata": {},
   "outputs": [],
   "source": [
    "pRecursive = rec_bisection(method, levels, A, coords);"
   ]
  },
  {
   "cell_type": "code",
   "execution_count": null,
   "metadata": {},
   "outputs": [],
   "source": [
    "edge_count = count_edge_cut(A, pRecursive)"
   ]
  },
  {
   "cell_type": "code",
   "execution_count": null,
   "metadata": {},
   "outputs": [],
   "source": [
    "draw_graph(A, coords, pRecursive)"
   ]
  },
  {
   "cell_type": "markdown",
   "metadata": {},
   "source": [
    "### 4. Methis alg"
   ]
  },
  {
   "cell_type": "code",
   "execution_count": null,
   "metadata": {},
   "outputs": [],
   "source": [
    "pMetis = metis_part(A, 2, :KWAY);\n",
    "edge_count = count_edge_cut(A, pMetis);"
   ]
  },
  {
   "cell_type": "code",
   "execution_count": null,
   "metadata": {},
   "outputs": [],
   "source": [
    "draw_graph(A, coords, pMetis)"
   ]
  }
 ],
 "metadata": {
  "kernelspec": {
   "display_name": "Julia 1.9.3",
   "language": "julia",
   "name": "julia-1.9"
  },
  "language_info": {
   "file_extension": ".jl",
   "mimetype": "application/julia",
   "name": "julia",
   "version": "1.9.3"
  }
 },
 "nbformat": 4,
 "nbformat_minor": 2
}
